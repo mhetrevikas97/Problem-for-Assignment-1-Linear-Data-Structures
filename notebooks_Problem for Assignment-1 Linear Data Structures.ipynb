{
  "metadata": {
    "kernelspec": {
      "display_name": "Pyolite",
      "language": "python",
      "name": "python"
    },
    "language_info": {
      "codemirror_mode": {
        "name": "python",
        "version": 3
      },
      "file_extension": ".py",
      "mimetype": "text/x-python",
      "name": "python",
      "nbconvert_exporter": "python",
      "pygments_lexer": "ipython3",
      "version": "3.8"
    }
  },
  "nbformat_minor": 5,
  "nbformat": 4,
  "cells": [
    {
      "cell_type": "code",
      "source": "#Q1\n\n\ndef getPairsCount(arr, n, sum):\n\n\tcount = 0 \n\n\n\tfor i in range(0, n):\n\t\tfor j in range(i + 1, n):\n\t\t\tif arr[i] + arr[j] == sum:\n\t\t\t\tcount += 1\n\n\treturn count\n\n\n\narr = [1, 5, 7, -1, 5]\nn = len(arr)\nsum = 6\nprint(\"Count of pairs is\",\n\tgetPairsCount(arr, n, sum))\n",
      "metadata": {
        "trusted": true
      },
      "execution_count": 1,
      "outputs": [
        {
          "name": "stdout",
          "text": "Count of pairs is 3\n",
          "output_type": "stream"
        }
      ],
      "id": "a9f65494-3a25-4335-882f-8682d6e157c6"
    },
    {
      "cell_type": "code",
      "source": "\n#Q2\n\ndef reversearr(A, start, end):\n\twhile start < end:\n\t\tA[start], A[end] = A[end], A[start]\n\t\tstart += 1\n\t\tend -= 1\n\nA = [1, 2, 3, 4, 5, 6]\nprint(A)\nreversearr(A, 0, 5)\nprint(\"Reversed arr is\")\nprint(A)\n",
      "metadata": {
        "trusted": true
      },
      "execution_count": 4,
      "outputs": [
        {
          "name": "stdout",
          "text": "[1, 2, 3, 4, 5, 6]\nReversed arr is\n[6, 5, 4, 3, 2, 1]\n",
          "output_type": "stream"
        }
      ],
      "id": "385d1df6-eaa7-466d-af64-2f5223b89277"
    },
    {
      "cell_type": "code",
      "source": "\n#Q3\ndef areRotations(string1, string2):\n\tsize1 = len(string1)\n\tsize2 = len(string2)\n\ttemp = ''\n\n\tif size1 != size2:\n\t\treturn 0\n\n\ttemp = string1 + string1\n\n\n\tif (temp.count(string2)> 0):\n\t\treturn 1\n\telse:\n\t\treturn 0\n\nstring1 = \"AACD\"\nstring2 = \"AEDA\"\n\nif areRotations(string1, string2):\n\tprint (\"Strings are rotations of each other\")\nelse:\n\tprint (\"Strings are not rotations of each other\")\n",
      "metadata": {
        "trusted": true
      },
      "execution_count": 6,
      "outputs": [
        {
          "name": "stdout",
          "text": "Strings are not rotations of each other\n",
          "output_type": "stream"
        }
      ],
      "id": "3b0e8677-b86f-43c1-8b11-0328e45a785e"
    },
    {
      "cell_type": "code",
      "source": "#Q4\nNO_OF_CHARS = 256\n\ndef getCharCountArray(string):\n\tcount = [0] * NO_OF_CHARS\n\tfor i in string:\n\t\tcount[ord(i)]+= 1\n\treturn count\n\ndef firstNonRepeating(string):\n\tcount = getCharCountArray(string)\n\tindex = -1\n\tk = 0\n\n\tfor i in string:\n\t\tif count[ord(i)] == 1:\n\t\t\tindex = k\n\t\t\tbreak\n        k += 1\n\n\treturn index\n\nstring = \"edyoda is edyoda university\"\nindex = firstNonRepeating(string)\nif index == 1:\n\tprint (\"Either all characters are repeating or string is empty\")\nelse:\n\tprint (\"First non-repeating character is\" , string[index])\n\n",
      "metadata": {
        "trusted": true
      },
      "execution_count": 8,
      "outputs": [
        {
          "name": "stdout",
          "text": "First non-repeating character is u\n",
          "output_type": "stream"
        }
      ],
      "id": "666b93e4-7353-400e-a115-84320849debd"
    },
    {
      "cell_type": "code",
      "source": "#Q5\ndef TowerOfHanoi(n , from_rod, to_rod, aux_rod):\n\tif n == 0:\n\t\treturn\n\tTowerOfHanoi(n-1, from_rod, aux_rod, to_rod)\n\tprint(\"Move disk\",n,\"from rod\",from_rod,\"to rod\",to_rod)\n\tTowerOfHanoi(n-1, aux_rod, to_rod, from_rod)\n\t\t\nn = 4\nTowerOfHanoi(n, 'A', 'C', 'B')\n\n",
      "metadata": {
        "trusted": true
      },
      "execution_count": 9,
      "outputs": [
        {
          "name": "stdout",
          "text": "Move disk 1 from rod A to rod B\nMove disk 2 from rod A to rod C\nMove disk 1 from rod B to rod C\nMove disk 3 from rod A to rod B\nMove disk 1 from rod C to rod A\nMove disk 2 from rod C to rod B\nMove disk 1 from rod A to rod B\nMove disk 4 from rod A to rod C\nMove disk 1 from rod B to rod C\nMove disk 2 from rod B to rod A\nMove disk 1 from rod C to rod A\nMove disk 3 from rod B to rod C\nMove disk 1 from rod A to rod B\nMove disk 2 from rod A to rod C\nMove disk 1 from rod B to rod C\n",
          "output_type": "stream"
        }
      ],
      "id": "7eaa45be-e9f5-4225-bc7b-a5265a19ceb8"
    },
    {
      "cell_type": "code",
      "source": "#Q6\n\ndef isOperator(x):\n\n\tif x == \"+\":\n\t\treturn True\n\n\tif x == \"-\":\n\t\treturn True\n\n\tif x == \"/\":\n\t\treturn True\n\n\tif x == \"*\":\n\t\treturn True\n\n\treturn False\ndef postToPre(post_exp):\n\n\ts = []\n\n\tlength = len(post_exp)\n\n\tfor i in range(length):\n\n\t\tif (isOperator(post_exp[i])):\n\n\t\t\top1 = s[-1]\n\t\t\ts.pop()\n\t\t\top2 = s[-1]\n\t\t\ts.pop()\n\t\t\ttemp = post_exp[i] + op2 + op1\n            s.append(temp)\n\n\t\telse:\n\n\t\t\ts.append(post_exp[i])\n\n\t\n\tans = \"\"\n\tfor i in s:\n\t\tans += i\n\treturn ans\n\n\nif __name__ == \"__main__\":\n\n\tpost_exp = \"AB+CD-\"\n\t\n\n\tprint(\"Prefix : \", postToPre(post_exp))\n\n",
      "metadata": {
        "trusted": true
      },
      "execution_count": null,
      "outputs": [],
      "id": "e15d3876-334c-4cef-b0fb-aada87e5e295"
    },
    {
      "cell_type": "code",
      "source": "#Q7\ndef prefixToInfix(prefix):\n\tstack = []\n\t\n\n\ti = len(prefix) - 1\n\twhile i >= 0:\n\t\tif not isOperator(prefix[i]):\n\t\t\t\n\n\t\t\tstack.append(prefix[i])\n\t\t\ti -= 1\n\t\telse:\n\t\t\n\n\t\t\tstr = \"(\" + stack.pop() + prefix[i] + stack.pop() + \")\"\n\t\t\tstack.append(str)\n\t\t\ti -= 1\n\t\n\treturn stack.pop()\n\ndef isOperator(c):\n\tif c == \"*\" or c == \"+\" or c == \"-\" or c == \"/\" or c == \"^\" or c == \"(\" or c == \")\":\n\t\treturn True\n\telse:\n\t\treturn False\n\nif __name__==\"__main__\":\n\tstr = \"*-A/BC-/AKL\"\n\tprint(prefixToInfix(str))\n\t\n\n",
      "metadata": {
        "trusted": true
      },
      "execution_count": null,
      "outputs": [],
      "id": "758d1c1c-7a76-4487-a6dc-99f2883d3356"
    },
    {
      "cell_type": "code",
      "source": "#Q8\ndef areBracketsBalanced(expr):\n\tstack = []\n\n\n\tfor char in expr:\n\t\tif char in [\"(\", \"{\", \"[\"]:\n\n\t\t\tstack.append(char)\n\t\telse:\n\n\n\t\t\tif not stack:\n\t\t\t\treturn False\n\t\t\tcurrent_char = stack.pop()\n\t\t\tif current_char == '(':\n\t\t\t\tif char != \")\":\n\t\t\t\t\treturn False\n\t\t\tif current_char == '{':\n\t\t\t\tif char != \"}\":\n\t\t\t\t\treturn False\n\t\t\tif current_char == '[':\n\t\t\t\tif char != \"]\":\n\t\t\t\t\treturn False\n\n\n\tif stack:\n\t\treturn False\n\treturn True\n\n\n\nif __name__ == \"__main__\":\n\texpr = \"{()}[]\"\n\n\n\tif areBracketsBalanced(expr):\n\t\tprint(\"Balanced\")\n\telse:\n\t\tprint(\"Not Balanced\")\n\n\n",
      "metadata": {
        "trusted": true
      },
      "execution_count": 1,
      "outputs": [
        {
          "name": "stdout",
          "text": "Balanced\n",
          "output_type": "stream"
        }
      ],
      "id": "8e00235d-7e8f-4f4c-a83a-c7656bdc7a96"
    },
    {
      "cell_type": "code",
      "source": "#Q9\ndef insertAtBottom(stack, item):\n\tif isEmpty(stack):\n\t\tpush(stack, item)\n\telse:\n\t\ttemp = pop(stack)\n\t\tinsertAtBottom(stack, item)\n\t\tpush(stack, temp)\n\n\ndef reverse(stack):\n\tif not isEmpty(stack):\n\t\ttemp = pop(stack)\n\t\treverse(stack)\n\t\tinsertAtBottom(stack, temp)\n\n\n\n\ndef createStack():\n\tstack = []\n\treturn stack\n\n\ndef isEmpty( stack ):\n\treturn len(stack) == 0\n\n\ndef push( stack, item ):\n\tstack.append( item )\n\n\ndef pop( stack ):\n\n\n\tif(isEmpty( stack )):\n\t\tprint(\"Stack Underflow \")\n\t\texit(1)\n\n\treturn stack.pop()\n\n\ndef prints(stack):\n\tfor i in range(len(stack)-1, -1, -1):\n\t\tprint(stack[i], end = ' ')\n\tprint()\n\n\n\nstack = createStack()\npush( stack, str(4) )\npush( stack, str(3) )\npush( stack, str(2) )\npush( stack, str(1) )\nprint(\"Original Stack \")\nprints(stack)\n\nreverse(stack)\n\nprint(\"Reversed Stack \")\nprints(stack)\n\n\n",
      "metadata": {
        "trusted": true
      },
      "execution_count": 3,
      "outputs": [
        {
          "name": "stdout",
          "text": "Original Stack \n1 2 3 4 \nReversed Stack \n4 3 2 1 \n",
          "output_type": "stream"
        }
      ],
      "id": "39bebacb-039c-47bd-82f3-5864c9f07b76"
    },
    {
      "cell_type": "code",
      "source": "#Q10\nimport math\n\ndef print2Smallest(arr):\n\n\n\tarr_size = len(arr)\n\tif arr_size < 2:\n\t\tprint (\"Invalid Input\")\n\t\treturn\n\n\tfirst = second = math.inf\n\tfor i in range(0, arr_size):\n\n\n\t\tif arr[i] < first:\n\t\t\tsecond = first\n\t\t\tfirst = arr[i]\n\n\n\t\telif (arr[i] < second and arr[i] != first):\n\t\t\tsecond = arr[i];\n\n\tif (second == math.inf):\n\t\tprint (\"No second smallest element\")\n\telse:\n\t\tprint ('The smallest element is',first)\n\n\narr = [12, 13, 1, 10, 34, 1]\nprint2Smallest(arr)\n\n\n",
      "metadata": {
        "trusted": true
      },
      "execution_count": 5,
      "outputs": [
        {
          "name": "stdout",
          "text": "The smallest element is 1\n",
          "output_type": "stream"
        }
      ],
      "id": "2d30bc9c-dc81-449e-8cf9-1ef8779ff5a6"
    },
    {
      "cell_type": "code",
      "source": "",
      "metadata": {},
      "execution_count": null,
      "outputs": [],
      "id": "2780c6e8-9d3a-4109-82b7-569ec2acd978"
    }
  ]
}